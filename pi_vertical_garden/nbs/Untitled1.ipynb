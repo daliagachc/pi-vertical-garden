{
 "cells": [
  {
   "cell_type": "code",
   "execution_count": null,
   "metadata": {},
   "outputs": [
    {
     "name": "stderr",
     "output_type": "stream",
     "text": [
      "/usr/local/lib/python3.5/dist-packages/ipykernel_launcher.py:17: RuntimeWarning: This channel is already in use, continuing anyway.  Use GPIO.setwarnings(False) to disable warnings.\n",
      "/usr/local/lib/python3.5/dist-packages/ipykernel_launcher.py:17: RuntimeWarning: A physical pull up resistor is fitted on this channel!\n"
     ]
    }
   ],
   "source": [
    "import RPi.GPIO as GPIO\n",
    "from subprocess import call\n",
    "from datetime import datetime\n",
    "import time\n",
    "\n",
    "# pushbutton connected to this GPIO pin, using pin 5 also has the benefit of\n",
    "# waking / powering up Raspberry Pi when button is pressed\n",
    "shutdownPin = 5\n",
    "\n",
    "# if button pressed for at least this long then shut down. if less then reboot.\n",
    "shutdownMinSeconds = 3\n",
    "\n",
    "# button debounce time in seconds\n",
    "debounceSeconds = 0.01\n",
    "\n",
    "GPIO.setmode(GPIO.BOARD)\n",
    "GPIO.setup(shutdownPin, GPIO.IN, pull_up_down=GPIO.PUD_UP)\n",
    "\n",
    "buttonPressedTime = None\n",
    "\n",
    "\n",
    "def buttonStateChanged(pin):\n",
    "    global buttonPressedTime\n",
    "\n",
    "    if not (GPIO.input(pin)):\n",
    "        # button is down\n",
    "        if buttonPressedTime is None:\n",
    "            buttonPressedTime = datetime.now()\n",
    "    else:\n",
    "        # button is up\n",
    "        if buttonPressedTime is not None:\n",
    "            elapsed = (datetime.now() - buttonPressedTime).total_seconds()\n",
    "            buttonPressedTime = None\n",
    "            if elapsed >= shutdownMinSeconds:\n",
    "                # button pressed for more than specified time, shutdown\n",
    "                call(['shutdown', '-h', 'now'], shell=False)\n",
    "            elif elapsed >= debounceSeconds:\n",
    "                # button pressed for a shorter time, reboot\n",
    "                call(['shutdown', '-r', 'now'], shell=False)\n",
    "\n",
    "\n",
    "# subscribe to button presses\n",
    "GPIO.add_event_detect(shutdownPin, GPIO.BOTH, callback=buttonStateChanged)\n",
    "\n",
    "while True:\n",
    "    # sleep to reduce unnecessary CPU usage\n",
    "    time.sleep(5)"
   ]
  },
  {
   "cell_type": "code",
   "execution_count": null,
   "metadata": {},
   "outputs": [],
   "source": []
  }
 ],
 "metadata": {
  "kernelspec": {
   "display_name": "Python 3",
   "language": "python",
   "name": "python3"
  },
  "language_info": {
   "codemirror_mode": {
    "name": "ipython",
    "version": 3
   },
   "file_extension": ".py",
   "mimetype": "text/x-python",
   "name": "python",
   "nbconvert_exporter": "python",
   "pygments_lexer": "ipython3",
   "version": "3.5.3"
  }
 },
 "nbformat": 4,
 "nbformat_minor": 4
}

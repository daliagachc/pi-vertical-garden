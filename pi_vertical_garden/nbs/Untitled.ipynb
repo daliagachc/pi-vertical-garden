{
 "cells": [
  {
   "cell_type": "code",
   "execution_count": 1,
   "metadata": {},
   "outputs": [],
   "source": [
    "%load_ext autoreload\n",
    "%autoreload 2"
   ]
  },
  {
   "cell_type": "code",
   "execution_count": 55,
   "metadata": {},
   "outputs": [],
   "source": [
    "import pandas as pd\n",
    "import pi_vertical_garden.util as pvg"
   ]
  },
  {
   "cell_type": "code",
<<<<<<< HEAD
<<<<<<< HEAD
   "execution_count": 4,
=======
=======
>>>>>>> parent of cbc041b... from-pi
   "execution_count": 56,
   "metadata": {},
   "outputs": [],
   "source": [
    "import sqlite3 as sq3"
   ]
  },
  {
   "cell_type": "code",
   "execution_count": 39,
   "metadata": {},
   "outputs": [],
   "source": [
    "dic = pvg.get_soil_sensor_dic()"
   ]
  },
  {
   "cell_type": "code",
   "execution_count": 52,
<<<<<<< HEAD
>>>>>>> parent of cbc041b... from-pi
=======
>>>>>>> parent of cbc041b... from-pi
   "metadata": {},
   "outputs": [],
   "source": [
    "row = pvg.get_soil_sensor_row()"
   ]
  },
  {
   "cell_type": "code",
   "execution_count": 54,
   "metadata": {},
   "outputs": [
    {
     "data": {
      "text/html": [
       "<div>\n",
       "<table border=\"1\" class=\"dataframe\">\n",
       "  <thead>\n",
       "    <tr style=\"text-align: right;\">\n",
       "      <th></th>\n",
       "      <th>dew_point</th>\n",
       "      <th>humidity</th>\n",
       "      <th>temp</th>\n",
       "    </tr>\n",
       "    <tr>\n",
       "      <th>dt_secs</th>\n",
       "      <th></th>\n",
       "      <th></th>\n",
       "      <th></th>\n",
       "    </tr>\n",
       "  </thead>\n",
       "  <tbody>\n",
       "    <tr>\n",
<<<<<<< HEAD
<<<<<<< HEAD
       "      <th>1.563429e+09</th>\n",
       "      <td>5.34</td>\n",
       "      <td>50.42</td>\n",
       "      <td>16.22</td>\n",
=======
=======
>>>>>>> parent of cbc041b... from-pi
       "      <th>1.563137e+09</th>\n",
       "      <td>4.2</td>\n",
       "      <td>36.93</td>\n",
       "      <td>19.76</td>\n",
<<<<<<< HEAD
>>>>>>> parent of cbc041b... from-pi
=======
>>>>>>> parent of cbc041b... from-pi
       "    </tr>\n",
       "  </tbody>\n",
       "</table>\n",
       "</div>"
      ],
      "text/plain": [
       "              dew_point  humidity   temp\n",
       "dt_secs                                 \n",
<<<<<<< HEAD
<<<<<<< HEAD
       "1.563429e+09       5.34     50.42  16.22"
=======
       "1.563137e+09        4.2     36.93  19.76"
>>>>>>> parent of cbc041b... from-pi
=======
       "1.563137e+09        4.2     36.93  19.76"
>>>>>>> parent of cbc041b... from-pi
      ]
     },
     "execution_count": 54,
     "metadata": {},
     "output_type": "execute_result"
    }
   ],
   "source": [
    "row"
   ]
  },
  {
   "cell_type": "code",
<<<<<<< HEAD
   "execution_count": 10,
=======
   "execution_count": 59,
   "metadata": {},
   "outputs": [],
   "source": [
    "con = sq3.connect(pvg.DB)\n"
   ]
  },
  {
   "cell_type": "code",
   "execution_count": 60,
   "metadata": {},
   "outputs": [],
   "source": [
    "row.to_sql('soil_data',con,index=True)"
   ]
  },
  {
   "cell_type": "code",
   "execution_count": 4,
   "metadata": {},
   "outputs": [],
   "source": [
    "pvg.setup_valve()"
   ]
  },
  {
   "cell_type": "code",
   "execution_count": 7,
<<<<<<< HEAD
>>>>>>> parent of cbc041b... from-pi
=======
>>>>>>> parent of cbc041b... from-pi
   "metadata": {},
   "outputs": [],
   "source": [
    "pvg.valve_on()"
   ]
  },
  {
   "cell_type": "code",
<<<<<<< HEAD
<<<<<<< HEAD
   "execution_count": 11,
=======
   "execution_count": 8,
>>>>>>> parent of cbc041b... from-pi
=======
   "execution_count": 8,
>>>>>>> parent of cbc041b... from-pi
   "metadata": {},
   "outputs": [],
   "source": [
    "pvg.valve_off()"
   ]
  },
  {
   "cell_type": "code",
   "execution_count": 8,
   "metadata": {},
   "outputs": [
    {
     "data": {
      "text/plain": [
       "Timestamp('2019-07-18 05:54:55.053771')"
      ]
     },
     "execution_count": 8,
     "metadata": {},
     "output_type": "execute_result"
    }
   ],
   "source": [
    "now = pvg.get_now_timestamp()\n",
    "now"
   ]
  },
  {
   "cell_type": "code",
   "execution_count": 9,
   "metadata": {},
   "outputs": [],
   "source": [
    "un = pvg.timestamp2unix(now)\n",
    "nnow=pvg.unix2timestamp(un)"
   ]
  },
  {
   "cell_type": "code",
   "execution_count": null,
   "metadata": {},
   "outputs": [],
   "source": []
  }
 ],
 "metadata": {
  "kernelspec": {
   "display_name": "Python 3",
   "language": "python",
   "name": "python3"
  },
  "language_info": {
   "codemirror_mode": {
    "name": "ipython",
    "version": 3
   },
   "file_extension": ".py",
   "mimetype": "text/x-python",
   "name": "python",
   "nbconvert_exporter": "python",
   "pygments_lexer": "ipython3",
   "version": "3.5.3"
  }
 },
 "nbformat": 4,
 "nbformat_minor": 4
}
